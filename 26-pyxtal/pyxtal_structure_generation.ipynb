{
 "cells": [
  {
   "cell_type": "markdown",
   "metadata": {},
   "source": [
    "# PyXtal 结构构建"
   ]
  },
  {
   "cell_type": "code",
   "execution_count": 2,
   "metadata": {},
   "outputs": [
    {
     "data": {
      "text/plain": [
       "\n",
       "------Crystal from Build------\n",
       "Dimension: 3\n",
       "Composition: Nb10Nb10Si6\n",
       "Group: P 63/m c m (193)\n",
       "  7.5360,   7.5360,   5.2480,  90.0000,  90.0000, 120.0000, hexagonal\n",
       "Wyckoff sites:\n",
       "\tNb @ [ 0.3333  0.6667  0.0000], WP [4d] Site [322]\n",
       "\tNb @ [ 0.2473  0.0000  0.2500], WP [6g] Site [mm2.]\n",
       "\tSi @ [ 0.6063  0.0000  0.2500], WP [6g] Site [mm2.]"
      ]
     },
     "execution_count": 2,
     "metadata": {},
     "output_type": "execute_result"
    }
   ],
   "source": [
    "from pyxtal import pyxtal\n",
    "from pyxtal.lattice import Lattice\n",
    "\n",
    "# gamma Nb5Si3\n",
    "# pyxtal 中显示的 composition 有点问题，实际内容没问题\n",
    "cell = Lattice.from_para(7.536, 7.536, 5.248, 90, 90, 120, ltype=\"hexagonal\")\n",
    "spg = 193\n",
    "elements = [\"Nb\", \"Nb\", \"Si\"]\n",
    "composition = [4, 6, 6]\n",
    "\n",
    "sites = [\n",
    "    [{\"4d\": [0.333, 0.667, 0.0]}],\n",
    "    [{\"6g\": [0.2473, 0.0, 0.25]}],\n",
    "    [{\"6g\": [0.6063, 0.0, 0.25]}],\n",
    "]\n",
    "\n",
    "structure = pyxtal()\n",
    "structure.build(\n",
    "    group=spg, species=elements, numIons=composition, lattice=cell, sites=sites\n",
    ")\n",
    "\n",
    "structure"
   ]
  },
  {
   "cell_type": "code",
   "execution_count": 3,
   "metadata": {},
   "outputs": [
    {
     "data": {
      "text/plain": [
       "Structure Summary\n",
       "Lattice\n",
       "    abc : 7.536 7.536 5.248\n",
       " angles : 90.0 90.0 119.99999999999999\n",
       " volume : 258.11083610156857\n",
       "      A : 6.52636744291953 -3.7679999999999985 4.614469139187227e-16\n",
       "      B : 0.0 7.536 4.614469139187227e-16\n",
       "      C : 0.0 0.0 5.248\n",
       "    pbc : True True True\n",
       "PeriodicSite: Nb (2.175, 3.768, 4.614e-16) [0.3333, 0.6667, 7.713e-33]\n",
       "PeriodicSite: Nb (4.351, 1.071e-15, 2.624) [0.6667, 0.3333, 0.5]\n",
       "PeriodicSite: Nb (4.351, 1.071e-15, 4.614e-16) [0.6667, 0.3333, 2.004e-32]\n",
       "PeriodicSite: Nb (2.175, 3.768, 2.624) [0.3333, 0.6667, 0.5]\n",
       "PeriodicSite: Nb (1.614, -0.9318, 1.312) [0.2473, 3.832e-18, 0.25]\n",
       "PeriodicSite: Nb (0.0, 1.864, 1.312) [0.0, 0.2473, 0.25]\n",
       "PeriodicSite: Nb (-1.614, -0.9318, 1.312) [-0.2473, -0.2473, 0.25]\n",
       "PeriodicSite: Nb (-1.614, 0.9318, 3.936) [-0.2473, -3.832e-18, 0.75]\n",
       "PeriodicSite: Nb (0.0, -1.864, 3.936) [0.0, -0.2473, 0.75]\n",
       "PeriodicSite: Nb (1.614, 0.9318, 3.936) [0.2473, 0.2473, 0.75]\n",
       "PeriodicSite: Si (3.957, -2.285, 1.312) [0.6063, -1.142e-17, 0.25]\n",
       "PeriodicSite: Si (0.0, 4.569, 1.312) [0.0, 0.6063, 0.25]\n",
       "PeriodicSite: Si (-3.957, -2.285, 1.312) [-0.6063, -0.6063, 0.25]\n",
       "PeriodicSite: Si (-3.957, 2.285, 3.936) [-0.6063, 1.142e-17, 0.75]\n",
       "PeriodicSite: Si (0.0, -4.569, 3.936) [0.0, -0.6063, 0.75]\n",
       "PeriodicSite: Si (3.957, 2.285, 3.936) [0.6063, 0.6063, 0.75]"
      ]
     },
     "execution_count": 3,
     "metadata": {},
     "output_type": "execute_result"
    }
   ],
   "source": [
    "structure_pmg = structure.to_pymatgen()\n",
    "structure_pmg"
   ]
  },
  {
   "cell_type": "code",
   "execution_count": 4,
   "metadata": {},
   "outputs": [
    {
     "data": {
      "text/plain": [
       "'Nb10 Si6\\n1.0\\n   6.5263674429195300   -3.7679999999999985    0.0000000000000005\\n   0.0000000000000000    7.5359999999999996    0.0000000000000005\\n   0.0000000000000000    0.0000000000000000    5.2480000000000002\\nNb Si\\n10 6\\ndirect\\n   0.3333333333333333    0.6666666666666666    0.0000000000000000 Nb\\n   0.6666666666666665    0.3333333333333333    0.5000000000000000 Nb\\n   0.6666666666666665    0.3333333333333333    0.0000000000000000 Nb\\n   0.3333333333333333    0.6666666666666666    0.5000000000000000 Nb\\n   0.2472999999999992    0.0000000000000000    0.2500000000000001 Nb\\n   0.0000000000000000    0.2472999999999992    0.2500000000000001 Nb\\n  -0.2472999999999992   -0.2472999999999992    0.2500000000000000 Nb\\n  -0.2472999999999992   -0.0000000000000000    0.7500000000000000 Nb\\n   0.0000000000000000   -0.2472999999999992    0.7500000000000000 Nb\\n   0.2472999999999992    0.2472999999999992    0.7500000000000000 Nb\\n   0.6063000000000009   -0.0000000000000000    0.2500000000000000 Si\\n   0.0000000000000000    0.6063000000000008    0.2500000000000000 Si\\n  -0.6063000000000009   -0.6063000000000009    0.2500000000000000 Si\\n  -0.6063000000000009    0.0000000000000000    0.7500000000000000 Si\\n   0.0000000000000000   -0.6063000000000008    0.7500000000000000 Si\\n   0.6063000000000009    0.6063000000000009    0.7500000000000001 Si\\n'"
      ]
     },
     "execution_count": 4,
     "metadata": {},
     "output_type": "execute_result"
    }
   ],
   "source": [
    "structure_fn = \"Nb5Si3_gamma.vasp\"\n",
    "structure.to_file(structure_fn, fmt=\"poscar\")"
   ]
  },
  {
   "cell_type": "markdown",
   "metadata": {},
   "source": [
    "hcp Mg PyXtal构建，不会随wyckoff site的变化而变化"
   ]
  },
  {
   "cell_type": "code",
   "execution_count": 9,
   "metadata": {},
   "outputs": [
    {
     "name": "stdout",
     "output_type": "stream",
     "text": [
      "\n",
      "------Crystal from Build------\n",
      "Dimension: 3\n",
      "Composition: Mg2\n",
      "Group: P 63/m m c (194)\n",
      "  3.2400,   3.2400,   5.1700,  90.0000,  90.0000, 120.0000, hexagonal\n",
      "Wyckoff sites:\n",
      "\tMg @ [ 0.3333  0.6667  0.2500], WP [2c] Site [-6m2m2]\n",
      "---------------------------------------------------------------------------\n",
      "Full Formula (Mg2)\n",
      "Reduced Formula: Mg\n",
      "abc   :   3.240000   3.240000   5.170000\n",
      "angles:  90.000000  90.000000 120.000000\n",
      "pbc   :       True       True       True\n",
      "Sites (2)\n",
      "  #  SP           a         b     c\n",
      "---  ----  --------  --------  ----\n",
      "  0  Mg    0.333333  0.666667  0.25\n",
      "  1  Mg    0.666667  0.333333  0.75\n"
     ]
    }
   ],
   "source": [
    "from pyxtal import pyxtal\n",
    "from pyxtal.lattice import Lattice\n",
    "\n",
    "\n",
    "# hcp Mg\n",
    "cell = Lattice.from_para(3.24, 3.24, 5.17, 90, 90, 120, ltype='hexagonal')\n",
    "spg = 194\n",
    "elements = ['Mg']\n",
    "composition = [2]\n",
    "\n",
    "sites = [{\"2c\": [1/3, 2/3, 0.25]}]\n",
    "# sites = [{\"2c\": [0.0, 0.0, 0.0]}]\n",
    "\n",
    "s = pyxtal()\n",
    "s.build(group=spg, species=elements, numIons=composition, lattice=cell, sites=sites)\n",
    "\n",
    "struc_pmg = s.to_pymatgen()\n",
    "struc_ase = s.to_ase()\n",
    "\n",
    "print(s)\n",
    "print(\"---\"*25)\n",
    "print(struc_pmg)\n",
    "\n",
    "s.to_file(\"POSCAR_Mg_1\", fmt=\"poscar\")"
   ]
  },
  {
   "cell_type": "code",
   "execution_count": 8,
   "metadata": {},
   "outputs": [
    {
     "name": "stdout",
     "output_type": "stream",
     "text": [
      "\n",
      "------Crystal from Build------\n",
      "Dimension: 3\n",
      "Composition: Mg2\n",
      "Group: P 63/m m c (194)\n",
      "  3.2400,   3.2400,   5.1700,  90.0000,  90.0000, 120.0000, hexagonal\n",
      "Wyckoff sites:\n",
      "\tMg @ [ 0.3333  0.6667  0.2500], WP [2c] Site [-6m2m2]\n",
      "---------------------------------------------------------------------------\n",
      "Full Formula (Mg2)\n",
      "Reduced Formula: Mg\n",
      "abc   :   3.240000   3.240000   5.170000\n",
      "angles:  90.000000  90.000000 120.000000\n",
      "pbc   :       True       True       True\n",
      "Sites (2)\n",
      "  #  SP           a         b     c\n",
      "---  ----  --------  --------  ----\n",
      "  0  Mg    0.333333  0.666667  0.25\n",
      "  1  Mg    0.666667  0.333333  0.75\n"
     ]
    }
   ],
   "source": [
    "from pyxtal import pyxtal\n",
    "from pyxtal.lattice import Lattice\n",
    "\n",
    "# hcp Mg\n",
    "cell = Lattice.from_para(3.24, 3.24, 5.17, 90, 90, 120, ltype='hexagonal')\n",
    "spg = 194\n",
    "elements = ['Mg']\n",
    "composition = [2]\n",
    "\n",
    "sites = [{\"2c\": [0.0, 0.0, 0.0]}]\n",
    "\n",
    "s = pyxtal()\n",
    "s.build(group=spg, species=elements, numIons=composition, lattice=cell, sites=sites)\n",
    "\n",
    "struc_pmg = s.to_pymatgen()\n",
    "struc_ase = s.to_ase()\n",
    "\n",
    "print(s)\n",
    "print(\"---\"*25)\n",
    "print(struc_pmg)\n",
    "\n",
    "s.to_file(\"POSCAR_Mg_2\", fmt=\"poscar\")"
   ]
  },
  {
   "cell_type": "code",
   "execution_count": 4,
   "metadata": {},
   "outputs": [
    {
     "data": {
      "application/vnd.jupyter.widget-view+json": {
       "model_id": "b2aaa6805cce481086db8c6a7e49a6bc",
       "version_major": 2,
       "version_minor": 0
      },
      "text/plain": [
       "HBox(children=(NGLWidget(), VBox(children=(Dropdown(description='Show', options=('All', 'Si', 'Nb'), value='Al…"
      ]
     },
     "execution_count": 4,
     "metadata": {},
     "output_type": "execute_result"
    }
   ],
   "source": [
    "from ase.visualize import view\n",
    "from ase.io import read\n",
    "\n",
    "structure_fn = \"Nb3Si.vasp\"\n",
    "structure_fn = \"Nb3Si_VESTA.vasp\"\n",
    "structure = read(structure_fn, format=\"vasp\")\n",
    "\n",
    "view(structure, viewer=\"ngl\")"
   ]
  },
  {
   "cell_type": "code",
   "execution_count": 3,
   "metadata": {},
   "outputs": [
    {
     "data": {
      "application/vnd.jupyter.widget-view+json": {
       "model_id": "ff1196b1d00b4fcd8997d787a2d70bf5",
       "version_major": 2,
       "version_minor": 0
      },
      "text/plain": [
       "HBox(children=(NGLWidget(), VBox(children=(Dropdown(description='Show', options=('All', 'Si', 'Nb'), value='Al…"
      ]
     },
     "execution_count": 3,
     "metadata": {},
     "output_type": "execute_result"
    }
   ],
   "source": [
    "from ase.visualize import view\n",
    "from ase.io import read\n",
    "\n",
    "structure_fn = \"Nb5Si3_gamma_VESTA.vasp\"\n",
    "structure = read(structure_fn, format=\"vasp\")\n",
    "\n",
    "view(structure, viewer=\"ngl\")\n"
   ]
  }
 ],
 "metadata": {
  "kernelspec": {
   "display_name": "Python 3",
   "language": "python",
   "name": "python3"
  },
  "language_info": {
   "codemirror_mode": {
    "name": "ipython",
    "version": 3
   },
   "file_extension": ".py",
   "mimetype": "text/x-python",
   "name": "python",
   "nbconvert_exporter": "python",
   "pygments_lexer": "ipython3",
   "version": "3.11.8"
  },
  "orig_nbformat": 4
 },
 "nbformat": 4,
 "nbformat_minor": 2
}

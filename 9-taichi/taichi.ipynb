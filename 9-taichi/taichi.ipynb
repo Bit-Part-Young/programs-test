{
 "cells": [
  {
   "cell_type": "markdown",
   "metadata": {},
   "source": [
    "筛素数\n",
    ">https://github.com/GaleSeLee/taichi_tutorial/blob/main/example.ipynb"
   ]
  },
  {
   "cell_type": "code",
   "execution_count": 4,
   "metadata": {},
   "outputs": [
    {
     "name": "stdout",
     "output_type": "stream",
     "text": [
      "[Taichi] Starting on arch=x64\n",
      "78498\n",
      "=========================================================================\n",
      "Kernel Profiler(count, default) @ X64 \n",
      "=========================================================================\n",
      "[      %     total   count |      min       avg       max   ] Kernel name\n",
      "-------------------------------------------------------------------------\n",
      "[100.00%   0.008 s      1x |    8.052     8.052     8.052 ms] count_primes_c74_0_kernel_1_range_for\n",
      "[  0.00%   0.000 s      1x |    0.000     0.000     0.000 ms] count_primes_c74_0_kernel_0_serial\n",
      "[  0.00%   0.000 s      1x |    0.000     0.000     0.000 ms] count_primes_c74_0_kernel_2_serial\n",
      "-------------------------------------------------------------------------\n",
      "[100.00%] Total execution time:   0.008 s   number of results: 3\n",
      "=========================================================================\n"
     ]
    }
   ],
   "source": [
    "import taichi as ti\n",
    "import time\n",
    "ti.init(arch=ti.cpu, kernel_profiler=True)\n",
    "@ti.func\n",
    "def is_prime(n: int):\n",
    "   result = True\n",
    "   for k in range(2, int(n ** 0.5) + 1):\n",
    "       if n % k == 0:\n",
    "           result = False\n",
    "           break\n",
    "   return result\n",
    "@ti.kernel\n",
    "def count_primes(n: int) -> int:\n",
    "   count = 0\n",
    "   for k in range(2, n):\n",
    "       if is_prime(k):\n",
    "           count += 1\n",
    "   return count\n",
    "#start_time = time.time()\n",
    "print(count_primes(1000000))\n",
    "# Taichi 1000000\n",
    "#    CPU 0.015s\n",
    "#    GPU 0.025s\n",
    "# Python 1000000\n",
    "#    CPU 3.48s\n",
    "#print(time.time()-start_time)\n",
    "ti.profiler.print_kernel_profiler_info()"
   ]
  },
  {
   "cell_type": "code",
   "execution_count": 10,
   "metadata": {},
   "outputs": [
    {
     "name": "stdout",
     "output_type": "stream",
     "text": [
      "[Taichi] Starting on arch=cuda\n",
      "78498\n",
      "============================================================================\n",
      "Kernel Profiler(count, default) @ CUDA on NVIDIA GeForce RTX 4060 Laptop GPU\n",
      "============================================================================\n",
      "[      %     total   count |      min       avg       max   ] Kernel name\n",
      "----------------------------------------------------------------------------\n",
      "[ 84.65%   0.022 s      1x |   21.647    21.647    21.647 ms] count_primes_c74_0_kernel_1_range_for\n",
      "[  8.42%   0.002 s      1x |    2.153     2.153     2.153 ms] runtime_initialize\n",
      "[  6.55%   0.002 s      1x |    1.675     1.675     1.675 ms] runtime_initialize_rand_states_cuda\n",
      "[  0.15%   0.000 s      1x |    0.038     0.038     0.038 ms] runtime_initialize_snodes\n",
      "[  0.11%   0.000 s      1x |    0.028     0.028     0.028 ms] runtime_initialize_runtime_context_buffer\n",
      "[  0.04%   0.000 s      1x |    0.011     0.011     0.011 ms] runtime_memory_allocate_aligned\n",
      "[  0.04%   0.000 s      1x |    0.011     0.011     0.011 ms] count_primes_c74_0_kernel_0_serial\n",
      "[  0.03%   0.000 s      1x |    0.008     0.008     0.008 ms] count_primes_c74_0_kernel_2_serial\n",
      "----------------------------------------------------------------------------\n",
      "[100.00%] Total execution time:   0.026 s   number of results: 8\n",
      "============================================================================\n"
     ]
    }
   ],
   "source": [
    "import taichi as ti\n",
    "import time\n",
    "ti.init(arch=ti.gpu, kernel_profiler=True)\n",
    "@ti.func\n",
    "def is_prime(n: int):\n",
    "   result = True\n",
    "   for k in range(2, int(n ** 0.5) + 1):\n",
    "       if n % k == 0:\n",
    "           result = False\n",
    "           break\n",
    "   return result\n",
    "@ti.kernel\n",
    "def count_primes(n: int) -> int:\n",
    "   count = 0\n",
    "   for k in range(2, n):\n",
    "       if is_prime(k):\n",
    "           count += 1\n",
    "   return count\n",
    "#start_time = time.time()\n",
    "print(count_primes(1000000))\n",
    "# Taichi 1000000\n",
    "#    CPU 0.015s\n",
    "#    GPU 0.025s\n",
    "# Python 1000000\n",
    "#    CPU 3.48s\n",
    "#print(time.time()-start_time)\n",
    "ti.profiler.print_kernel_profiler_info()"
   ]
  },
  {
   "cell_type": "markdown",
   "metadata": {},
   "source": [
    "WSL 调用GPU出错问题解决\n",
    ">https://github.com/taichi-dev/taichi/issues/5883"
   ]
  },
  {
   "cell_type": "code",
   "execution_count": 7,
   "metadata": {},
   "outputs": [
    {
     "name": "stdout",
     "output_type": "stream",
     "text": [
      "78498\n",
      "1.2462222576141357 s\n"
     ]
    }
   ],
   "source": [
    "import time\n",
    "def is_prime(n: int):\n",
    "   result = True\n",
    "   for k in range(2, int(n ** 0.5) + 1):\n",
    "       if n % k == 0:\n",
    "           result = False\n",
    "           break\n",
    "   return result\n",
    "\n",
    "def count_primes(n: int) -> int:\n",
    "   count = 0\n",
    "   for k in range(2, n):\n",
    "       if is_prime(k):\n",
    "           count += 1\n",
    "   return count\n",
    "start_time = time.time()\n",
    "print(count_primes(1000000))\n",
    "end_time = time.time()\n",
    "\n",
    "time_cost = end_time - start_time\n",
    "print(f\"{time_cost} s\")"
   ]
  }
 ],
 "metadata": {
  "kernelspec": {
   "display_name": "taichi",
   "language": "python",
   "name": "python3"
  },
  "language_info": {
   "codemirror_mode": {
    "name": "ipython",
    "version": 3
   },
   "file_extension": ".py",
   "mimetype": "text/x-python",
   "name": "python",
   "nbconvert_exporter": "python",
   "pygments_lexer": "ipython3",
   "version": "3.11.5"
  }
 },
 "nbformat": 4,
 "nbformat_minor": 2
}

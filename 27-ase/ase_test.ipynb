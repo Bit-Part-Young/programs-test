{
 "cells": [
  {
   "cell_type": "code",
   "execution_count": 6,
   "metadata": {},
   "outputs": [
    {
     "name": "stdout",
     "output_type": "stream",
     "text": [
      "Atoms(symbols='Zr2', pbc=True, cell=[[3.324, 0.0, 0.0], [-1.662, 2.8786684421794737, 0.0], [0.0, 0.0, 5.168]])\n"
     ]
    }
   ],
   "source": [
    "from ase.build import bulk, make_supercell\n",
    "from ase.io.vasp import write_vasp\n",
    "from ase.io.lammpsdata import write_lammps_data\n",
    "\n",
    "\n",
    "def hcp_gen():\n",
    "    struc = bulk(\"Zr\", \"hcp\", a=3.324, c=5.168, orthorhombic=False)\n",
    "    struc_orth = bulk(\"Zr\", \"hcp\", a=3.324, c=5.168, orthorhombic=True)\n",
    "    print(struc)\n",
    "\n",
    "    write_vasp(\"POSCAR\", struc, direct=True, sort=True)\n",
    "    write_vasp(\"POSCAR_orth\", struc_orth, direct=True, sort=True)\n",
    "    write_lammps_data(\"data.pos\", struc, units=\"metal\", atom_style=\"atomic\")  # 没有写入质量mass信息\n",
    "\n",
    "\n",
    "if __name__ == \"__main__\":\n",
    "    hcp_gen()"
   ]
  }
 ],
 "metadata": {
  "kernelspec": {
   "display_name": "atomate_ysl",
   "language": "python",
   "name": "python3"
  },
  "language_info": {
   "codemirror_mode": {
    "name": "ipython",
    "version": 3
   },
   "file_extension": ".py",
   "mimetype": "text/x-python",
   "name": "python",
   "nbconvert_exporter": "python",
   "pygments_lexer": "ipython3",
   "version": "3.10.11"
  },
  "orig_nbformat": 4
 },
 "nbformat": 4,
 "nbformat_minor": 2
}

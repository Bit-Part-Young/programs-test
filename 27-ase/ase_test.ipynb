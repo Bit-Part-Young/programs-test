{
 "cells": [
  {
   "cell_type": "code",
   "execution_count": 6,
   "metadata": {},
   "outputs": [
    {
     "name": "stdout",
     "output_type": "stream",
     "text": [
      "Atoms(symbols='Zr2', pbc=True, cell=[[3.324, 0.0, 0.0], [-1.662, 2.8786684421794737, 0.0], [0.0, 0.0, 5.168]])\n"
     ]
    }
   ],
   "source": [
    "from ase.build import bulk, make_supercell\n",
    "from ase.io.vasp import write_vasp\n",
    "from ase.io.lammpsdata import write_lammps_data\n",
    "\n",
    "\n",
    "def hcp_gen():\n",
    "    struc = bulk(\"Zr\", \"hcp\", a=3.324, c=5.168, orthorhombic=False)\n",
    "    struc_orth = bulk(\"Zr\", \"hcp\", a=3.324, c=5.168, orthorhombic=True)\n",
    "    print(struc)\n",
    "\n",
    "    write_vasp(\"POSCAR\", struc, direct=True, sort=True)\n",
    "    write_vasp(\"POSCAR_orth\", struc_orth, direct=True, sort=True)\n",
    "    write_lammps_data(\"data.pos\", struc, units=\"metal\", atom_style=\"atomic\")  # 没有写入质量mass信息\n",
    "\n",
    "\n",
    "if __name__ == \"__main__\":\n",
    "    hcp_gen()"
   ]
  },
  {
   "cell_type": "code",
   "execution_count": 7,
   "metadata": {},
   "outputs": [
    {
     "name": "stdout",
     "output_type": "stream",
     "text": [
      "[[ 0.         0.         0.       ]\n",
      " [-0.         1.8671508  2.584    ]]\n",
      "[[ 0.00000000e+00  0.00000000e+00  0.00000000e+00]\n",
      " [-8.81887156e-17  1.86715077e+00  2.58400000e+00]]\n"
     ]
    },
    {
     "data": {
      "text/plain": [
       "Structure Summary\n",
       "Lattice\n",
       "    abc : 3.234 3.2339999999999995 5.168\n",
       " angles : 90.0 90.0 120.00000000000001\n",
       " volume : 46.809410069095726\n",
       "      A : 3.234 0.0 0.0\n",
       "      B : -1.617 2.8007261558388743 0.0\n",
       "      C : 0.0 0.0 5.168\n",
       "    pbc : True True True\n",
       "PeriodicSite: Zr (0.0000, 0.0000, 0.0000) [0.0000, 0.0000, 0.0000]\n",
       "PeriodicSite: Zr (0.0000, 1.8672, 2.5840) [0.3333, 0.6667, 0.5000]"
      ]
     },
     "execution_count": 7,
     "metadata": {},
     "output_type": "execute_result"
    }
   ],
   "source": [
    "import numpy as np\n",
    "from ase.build import bulk\n",
    "from pymatgen.io.ase import AseAtomsAdaptor\n",
    "\n",
    "struc = bulk(\"Zr\", \"hcp\", a=3.234, c=5.168, orthorhombic=False)\n",
    "struc.positions\n",
    "type(struc.positions)\n",
    "print(np.round(struc.positions, 7))\n",
    "\n",
    "print(struc.get_positions())\n",
    "\n",
    "struc_pmg = AseAtomsAdaptor.get_structure(struc)\n",
    "struc_pmg"
   ]
  },
  {
   "attachments": {},
   "cell_type": "markdown",
   "metadata": {},
   "source": [
    "ase atoms类与pymatgen structure类的互相转换"
   ]
  },
  {
   "cell_type": "code",
   "execution_count": 2,
   "metadata": {},
   "outputs": [
    {
     "name": "stdout",
     "output_type": "stream",
     "text": [
      "Atoms(symbols='Fe2', pbc=True, cell=[2.83, 2.83, 2.83])\n",
      "\n",
      "\n",
      "Full Formula (Fe2)\n",
      "Reduced Formula: Fe\n",
      "abc   :   2.830000   2.830000   2.830000\n",
      "angles:  90.000000  90.000000  90.000000\n",
      "pbc   :       True       True       True\n",
      "Sites (2)\n",
      "  #  SP      a    b    c\n",
      "---  ----  ---  ---  ---\n",
      "  0  Fe    0    0    0\n",
      "  1  Fe    0.5  0.5  0.5\n"
     ]
    }
   ],
   "source": [
    "from ase.build import bulk\n",
    "from pymatgen.io.ase import AseAtomsAdaptor\n",
    "\n",
    "\n",
    "struc_ase = bulk('Fe', 'bcc', a=2.83, cubic=True)\n",
    "struc_pmg = AseAtomsAdaptor.get_structure(struc_ase)\n",
    "\n",
    "print(struc_ase)\n",
    "print(\"\\n\")\n",
    "print(struc_pmg)"
   ]
  },
  {
   "attachments": {},
   "cell_type": "markdown",
   "metadata": {},
   "source": [
    "ase中lammps文件格式: lammps-data（有read和write）和lammps-dump-text（只有read）、lammps-dump-binary lammps（只有read）"
   ]
  },
  {
   "cell_type": "code",
   "execution_count": 8,
   "metadata": {},
   "outputs": [],
   "source": [
    "# showfile(\"data.pos\")"
   ]
  },
  {
   "cell_type": "code",
   "execution_count": 13,
   "metadata": {},
   "outputs": [
    {
     "name": "stdout",
     "output_type": "stream",
     "text": [
      "Atoms(symbols='H4', pbc=True, cell=[4.05, 4.05, 4.05], id=..., masses=..., type=...)\n",
      "[1 1 1 1]\n",
      "['H', 'H', 'H', 'H']\n"
     ]
    }
   ],
   "source": [
    "from ase.io.lammpsdata import read_lammps_data, write_lammps_data\n",
    "from ase.io.lammpsrun import read_lammps_dump_text, read_lammps_dump_binary\n",
    "\n",
    "\n",
    "# ase io lammps related file\n",
    "# symbol isn't right\n",
    "struc = read_lammps_data('data.pos', style='atomic', units='metal')\n",
    "# write_lammps_data('5.lammps-data', struc)\n",
    "\n",
    "print(struc)\n",
    "print(struc.get_atomic_numbers())\n",
    "print(struc.get_chemical_symbols())"
   ]
  },
  {
   "cell_type": "code",
   "execution_count": null,
   "metadata": {},
   "outputs": [],
   "source": []
  }
 ],
 "metadata": {
  "kernelspec": {
   "display_name": "atomate_ysl",
   "language": "python",
   "name": "python3"
  },
  "language_info": {
   "codemirror_mode": {
    "name": "ipython",
    "version": 3
   },
   "file_extension": ".py",
   "mimetype": "text/x-python",
   "name": "python",
   "nbconvert_exporter": "python",
   "pygments_lexer": "ipython3",
   "version": "3.10.11"
  },
  "orig_nbformat": 4
 },
 "nbformat": 4,
 "nbformat_minor": 2
}

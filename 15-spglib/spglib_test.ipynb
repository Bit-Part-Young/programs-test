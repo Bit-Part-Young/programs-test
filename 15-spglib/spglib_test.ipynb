{
 "cells": [
  {
   "cell_type": "markdown",
   "metadata": {},
   "source": [
    "### 原胞转单胞"
   ]
  },
  {
   "cell_type": "code",
   "execution_count": 4,
   "metadata": {},
   "outputs": [
    {
     "data": {
      "text/plain": [
       "Atoms(symbols='Al', pbc=True, cell=[[0.0, 2.025, 2.025], [2.025, 0.0, 2.025], [2.025, 2.025, 0.0]])"
      ]
     },
     "execution_count": 4,
     "metadata": {},
     "output_type": "execute_result"
    }
   ],
   "source": [
    "from spglib import standardize_cell\n",
    "from ase.build import bulk\n",
    "from ase.atoms import Atoms\n",
    "\n",
    "primitive_struct = bulk(\"Al\")\n",
    "primitive_struct"
   ]
  },
  {
   "cell_type": "code",
   "execution_count": 5,
   "metadata": {},
   "outputs": [
    {
     "data": {
      "text/plain": [
       "(array([[4.05, 0.  , 0.  ],\n",
       "        [0.  , 4.05, 0.  ],\n",
       "        [0.  , 0.  , 4.05]]),\n",
       " array([[0. , 0. , 0. ],\n",
       "        [0. , 0.5, 0.5],\n",
       "        [0.5, 0. , 0.5],\n",
       "        [0.5, 0.5, 0. ]]),\n",
       " array([13, 13, 13, 13], dtype=int32))"
      ]
     },
     "execution_count": 5,
     "metadata": {},
     "output_type": "execute_result"
    }
   ],
   "source": [
    "conventional_cell = standardize_cell(primitive_struct)\n",
    "conventional_cell"
   ]
  },
  {
   "cell_type": "code",
   "execution_count": 7,
   "metadata": {},
   "outputs": [
    {
     "data": {
      "text/plain": [
       "Atoms(symbols='Al4', pbc=True, cell=[4.05, 4.05, 4.05])"
      ]
     },
     "execution_count": 7,
     "metadata": {},
     "output_type": "execute_result"
    }
   ],
   "source": [
    "conventional_struct = Atoms(\n",
    "    numbers=conventional_cell[2],\n",
    "    positions=conventional_cell[1],\n",
    "    cell=conventional_cell[0],\n",
    "    pbc=True,\n",
    ")\n",
    "conventional_struct"
   ]
  },
  {
   "cell_type": "code",
   "execution_count": 5,
   "metadata": {},
   "outputs": [
    {
     "data": {
      "text/plain": [
       "'Im-3m (229)'"
      ]
     },
     "execution_count": 5,
     "metadata": {},
     "output_type": "execute_result"
    }
   ],
   "source": [
    "from spglib import get_spacegroup\n",
    "from ase.build import bulk\n",
    "\n",
    "cell = bulk(\"Si\")\n",
    "cell = bulk(\"Al\")\n",
    "cell = bulk(\"Fe\")\n",
    "\n",
    "# 获取空间群\n",
    "spg = get_spacegroup(cell)\n",
    "spg"
   ]
  }
 ],
 "metadata": {
  "kernelspec": {
   "display_name": "base_ysl",
   "language": "python",
   "name": "python3"
  },
  "language_info": {
   "codemirror_mode": {
    "name": "ipython",
    "version": 3
   },
   "file_extension": ".py",
   "mimetype": "text/x-python",
   "name": "python",
   "nbconvert_exporter": "python",
   "pygments_lexer": "ipython3",
   "version": "3.11.4"
  }
 },
 "nbformat": 4,
 "nbformat_minor": 2
}

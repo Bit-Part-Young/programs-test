{
 "cells": [
  {
   "cell_type": "markdown",
   "metadata": {},
   "source": [
    "### 原胞转单胞"
   ]
  },
  {
   "cell_type": "code",
   "execution_count": 4,
   "metadata": {},
   "outputs": [
    {
     "data": {
      "text/plain": [
       "Atoms(symbols='Al', pbc=True, cell=[[0.0, 2.025, 2.025], [2.025, 0.0, 2.025], [2.025, 2.025, 0.0]])"
      ]
     },
     "execution_count": 4,
     "metadata": {},
     "output_type": "execute_result"
    }
   ],
   "source": [
    "from spglib import standardize_cell\n",
    "from ase.build import bulk\n",
    "from ase.atoms import Atoms\n",
    "\n",
    "primitive_struct = bulk(\"Al\")\n",
    "primitive_struct"
   ]
  },
  {
   "cell_type": "code",
   "execution_count": 5,
   "metadata": {},
   "outputs": [
    {
     "data": {
      "text/plain": [
       "(array([[4.05, 0.  , 0.  ],\n",
       "        [0.  , 4.05, 0.  ],\n",
       "        [0.  , 0.  , 4.05]]),\n",
       " array([[0. , 0. , 0. ],\n",
       "        [0. , 0.5, 0.5],\n",
       "        [0.5, 0. , 0.5],\n",
       "        [0.5, 0.5, 0. ]]),\n",
       " array([13, 13, 13, 13], dtype=int32))"
      ]
     },
     "execution_count": 5,
     "metadata": {},
     "output_type": "execute_result"
    }
   ],
   "source": [
    "conventional_cell = standardize_cell(primitive_struct)\n",
    "conventional_cell"
   ]
  },
  {
   "cell_type": "code",
   "execution_count": 7,
   "metadata": {},
   "outputs": [
    {
     "data": {
      "text/plain": [
       "Atoms(symbols='Al4', pbc=True, cell=[4.05, 4.05, 4.05])"
      ]
     },
     "execution_count": 7,
     "metadata": {},
     "output_type": "execute_result"
    }
   ],
   "source": [
    "conventional_struct = Atoms(\n",
    "    numbers=conventional_cell[2],\n",
    "    positions=conventional_cell[1],\n",
    "    cell=conventional_cell[0],\n",
    "    pbc=True,\n",
    ")\n",
    "conventional_struct"
   ]
  },
  {
   "cell_type": "markdown",
   "metadata": {},
   "source": [
    "### 获取空间群\n"
   ]
  },
  {
   "cell_type": "code",
   "execution_count": 5,
   "metadata": {},
   "outputs": [
    {
     "data": {
      "text/plain": [
       "'Im-3m (229)'"
      ]
     },
     "execution_count": 5,
     "metadata": {},
     "output_type": "execute_result"
    }
   ],
   "source": [
    "from spglib import get_spacegroup\n",
    "from ase.build import bulk\n",
    "\n",
    "cell = bulk(\"Si\")\n",
    "cell = bulk(\"Al\")\n",
    "cell = bulk(\"Fe\")\n",
    "\n",
    "# 获取空间群\n",
    "spg = get_spacegroup(cell)\n",
    "spg"
   ]
  },
  {
   "cell_type": "markdown",
   "metadata": {},
   "source": [
    "### 单胞转原胞"
   ]
  },
  {
   "cell_type": "code",
   "execution_count": 4,
   "metadata": {},
   "outputs": [
    {
     "data": {
      "text/plain": [
       "(array([[0.   , 2.025, 2.025],\n",
       "        [2.025, 0.   , 2.025],\n",
       "        [2.025, 2.025, 0.   ]]),\n",
       " array([[2.77555756e-17, 2.77555756e-17, 2.77555756e-17]]),\n",
       " array([13], dtype=int32))"
      ]
     },
     "execution_count": 4,
     "metadata": {},
     "output_type": "execute_result"
    }
   ],
   "source": [
    "from spglib import find_primitive\n",
    "from ase.build import bulk\n",
    "from ase.atoms import Atoms\n",
    "\n",
    "conv_cell = bulk(\"Al\", cubic=True)\n",
    "\n",
    "primitive_cell = find_primitive(conv_cell)\n",
    "primitive_cell"
   ]
  },
  {
   "cell_type": "code",
   "execution_count": 6,
   "metadata": {},
   "outputs": [
    {
     "data": {
      "text/plain": [
       "Atoms(symbols='Al', pbc=True, cell=[[0.0, 2.0250000000000004, 2.0250000000000004], [2.0250000000000004, 0.0, 2.0250000000000004], [2.0250000000000004, 2.0250000000000004, 0.0]])"
      ]
     },
     "execution_count": 6,
     "metadata": {},
     "output_type": "execute_result"
    }
   ],
   "source": [
    "prim_struct = Atoms(\n",
    "    numbers=primitive_cell[2],\n",
    "    positions=primitive_cell[1],\n",
    "    cell=primitive_cell[0],\n",
    "    pbc=True,\n",
    ")\n",
    "prim_struct"
   ]
  },
  {
   "cell_type": "code",
   "execution_count": 9,
   "metadata": {},
   "outputs": [
    {
     "data": {
      "text/plain": [
       "dict_keys(['number', 'hall_number', 'international', 'hall', 'choice', 'transformation_matrix', 'origin_shift', 'rotations', 'translations', 'wyckoffs', 'site_symmetry_symbols', 'crystallographic_orbits', 'equivalent_atoms', 'primitive_lattice', 'mapping_to_primitive', 'std_lattice', 'std_types', 'std_positions', 'std_rotation_matrix', 'std_mapping_to_primitive', 'pointgroup'])"
      ]
     },
     "execution_count": 9,
     "metadata": {},
     "output_type": "execute_result"
    }
   ],
   "source": [
    "from spglib import get_symmetry_dataset\n",
    "from ase.build import bulk\n",
    "\n",
    "cell = bulk(\"Si\")\n",
    "get_symmetry_dataset(cell).keys()"
   ]
  },
  {
   "cell_type": "code",
   "execution_count": null,
   "metadata": {},
   "outputs": [],
   "source": [
    "[\n",
    "    \"number\",\n",
    "    \"hall_number\",\n",
    "    \"international\",\n",
    "    \"hall\",\n",
    "    \"choice\",\n",
    "    \"transformation_matrix\",\n",
    "    \"origin_shift\",\n",
    "    \"rotations\",\n",
    "    \"translations\",\n",
    "    \"wyckoffs\",\n",
    "    \"site_symmetry_symbols\",\n",
    "    \"crystallographic_orbits\",\n",
    "    \"equivalent_atoms\",\n",
    "    \"primitive_lattice\",\n",
    "    \"mapping_to_primitive\",\n",
    "    \"std_lattice\",\n",
    "    \"std_types\",\n",
    "    \"std_positions\",\n",
    "    \"std_rotation_matrix\",\n",
    "    \"std_mapping_to_primitive\",\n",
    "    \"pointgroup\",\n",
    "]"
   ]
  },
  {
   "cell_type": "code",
   "execution_count": 10,
   "metadata": {},
   "outputs": [
    {
     "data": {
      "text/plain": [
       "['b', 'b']"
      ]
     },
     "execution_count": 10,
     "metadata": {},
     "output_type": "execute_result"
    }
   ],
   "source": [
    "symmetry_data = get_symmetry_dataset(cell)\n",
    "\n",
    "wyckoffs = symmetry_data[\"wyckoffs\"]\n",
    "wyckoffs"
   ]
  },
  {
   "cell_type": "code",
   "execution_count": 11,
   "metadata": {},
   "outputs": [
    {
     "data": {
      "text/plain": [
       "array([0, 0], dtype=int32)"
      ]
     },
     "execution_count": 11,
     "metadata": {},
     "output_type": "execute_result"
    }
   ],
   "source": [
    "equivalent_atoms = symmetry_data[\"equivalent_atoms\"]\n",
    "equivalent_atoms"
   ]
  },
  {
   "cell_type": "code",
   "execution_count": 12,
   "metadata": {},
   "outputs": [
    {
     "data": {
      "text/plain": [
       "array([[5.43, 0.  , 0.  ],\n",
       "       [0.  , 5.43, 0.  ],\n",
       "       [0.  , 0.  , 5.43]])"
      ]
     },
     "execution_count": 12,
     "metadata": {},
     "output_type": "execute_result"
    }
   ],
   "source": [
    "std_lattice = symmetry_data[\"std_lattice\"]\n",
    "std_lattice"
   ]
  },
  {
   "cell_type": "code",
   "execution_count": 13,
   "metadata": {},
   "outputs": [
    {
     "data": {
      "text/plain": [
       "array([[ 2.715, -2.715,  0.   ],\n",
       "       [-2.715, -0.   , -2.715],\n",
       "       [ 2.715,  2.715,  0.   ]])"
      ]
     },
     "execution_count": 13,
     "metadata": {},
     "output_type": "execute_result"
    }
   ],
   "source": [
    "primitive_lattice = symmetry_data[\"primitive_lattice\"]\n",
    "primitive_lattice"
   ]
  }
 ],
 "metadata": {
  "kernelspec": {
   "display_name": "base_ysl",
   "language": "python",
   "name": "python3"
  },
  "language_info": {
   "codemirror_mode": {
    "name": "ipython",
    "version": 3
   },
   "file_extension": ".py",
   "mimetype": "text/x-python",
   "name": "python",
   "nbconvert_exporter": "python",
   "pygments_lexer": "ipython3",
   "version": "3.11.4"
  }
 },
 "nbformat": 4,
 "nbformat_minor": 2
}

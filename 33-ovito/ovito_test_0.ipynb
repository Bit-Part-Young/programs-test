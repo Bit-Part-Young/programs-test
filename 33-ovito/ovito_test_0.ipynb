{
 "cells": [
  {
   "cell_type": "code",
   "execution_count": 2,
   "metadata": {},
   "outputs": [
    {
     "name": "stderr",
     "output_type": "stream",
     "text": [
      "/home/yangsl/src/miniconda3/envs/tmp/lib/python3.11/site-packages/ovito/_extensions/anari.py:2: UserWarning: Did you accidentally install the OVITO package from the PyPI repository in an Anaconda/Miniconda Python interpreter using the 'pip' command? This will likely lead to conflicts with existing libraries in the Anaconda environment, and import of the OVITO module may fail with an error related to the Qt framework. To fix this, please uninstall the ovito pip package by running 'pip uninstall -y ovito PySide6' and then install the OVITO Anaconda package provided by OVITO GmbH. Visit https://docs.ovito.org/python/introduction/installation.html for further instructions. If you would rather like to ignore this warning message, add the following code to the top of your Python script:\n",
      "\n",
      "  import warnings\n",
      "  warnings.filterwarnings('ignore', message='.*OVITO.*PyPI')\n",
      "\n",
      "  import ovito._extensions.pyscript\n"
     ]
    }
   ],
   "source": [
    "import numpy as np\n",
    "from ovito.data import DataCollection, NearestNeighborFinder\n",
    "from ovito.io import import_file\n",
    "\n",
    "conf_fn = \"fcc.dump\"\n",
    "pipeline = import_file(conf_fn)\n",
    "\n",
    "data = pipeline.compute()"
   ]
  },
  {
   "cell_type": "code",
   "execution_count": 3,
   "metadata": {},
   "outputs": [
    {
     "data": {
      "text/plain": [
       "{'SourceFrame': 0, 'SourceFile': '/home/yangsl/scripts/WarrenCowleyParameters/examples/fcc.dump', 'Timestep': 0}"
      ]
     },
     "execution_count": 3,
     "metadata": {},
     "output_type": "execute_result"
    }
   ],
   "source": [
    "data.attributes"
   ]
  },
  {
   "cell_type": "code",
   "execution_count": 4,
   "metadata": {},
   "outputs": [
    {
     "data": {
      "text/plain": [
       "4000"
      ]
     },
     "execution_count": 4,
     "metadata": {},
     "output_type": "execute_result"
    }
   ],
   "source": [
    "natoms = data.particles.count\n",
    "natoms"
   ]
  },
  {
   "cell_type": "code",
   "execution_count": 7,
   "metadata": {},
   "outputs": [
    {
     "data": {
      "text/plain": [
       "array([1, 3, 2, ..., 1, 3, 2], dtype=int32)"
      ]
     },
     "execution_count": 7,
     "metadata": {},
     "output_type": "execute_result"
    }
   ],
   "source": [
    "particle_types = np.array(data.particles.particle_type)\n",
    "# particle_types = np.array(data.particles.particle_types)\n",
    "particle_types"
   ]
  },
  {
   "cell_type": "code",
   "execution_count": 13,
   "metadata": {},
   "outputs": [
    {
     "name": "stdout",
     "output_type": "stream",
     "text": [
      "[1 2 3] [1334 1333 1333] [0.3335  0.33325 0.33325]\n"
     ]
    }
   ],
   "source": [
    "unique_types, counts = np.unique(particle_types, return_counts=True)\n",
    "concentrations = counts / natoms\n",
    "print(unique_types, counts, concentrations)"
   ]
  },
  {
   "cell_type": "code",
   "execution_count": 16,
   "metadata": {},
   "outputs": [
    {
     "name": "stdout",
     "output_type": "stream",
     "text": [
      "[[   1]\n",
      " [   0]\n",
      " [   0]\n",
      " ...\n",
      " [3999]\n",
      " [3999]\n",
      " [3998]]\n",
      "[[[ 1.76792  1.76792  0.     ]]\n",
      "\n",
      " [[-1.76792 -1.76792  0.     ]]\n",
      "\n",
      " [[-1.76792  0.      -1.76792]]\n",
      "\n",
      " ...\n",
      "\n",
      " [[-1.7679   0.       1.7679 ]]\n",
      "\n",
      " [[-1.7679   1.7679   0.     ]]\n",
      "\n",
      " [[ 1.7679  -1.7679   0.     ]]]\n"
     ]
    }
   ],
   "source": [
    "finder = NearestNeighborFinder(N=1, data_collection=data)\n",
    "neighbor_indices, _ = finder.find_all()\n",
    "print(neighbor_indices)\n",
    "print(_)"
   ]
  }
 ],
 "metadata": {
  "kernelspec": {
   "display_name": "tmp",
   "language": "python",
   "name": "python3"
  },
  "language_info": {
   "codemirror_mode": {
    "name": "ipython",
    "version": 3
   },
   "file_extension": ".py",
   "mimetype": "text/x-python",
   "name": "python",
   "nbconvert_exporter": "python",
   "pygments_lexer": "ipython3",
   "version": "3.11.4"
  }
 },
 "nbformat": 4,
 "nbformat_minor": 2
}
